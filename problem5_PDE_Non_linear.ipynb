{
 "cells": [
  {
   "cell_type": "code",
   "execution_count": 1,
   "metadata": {
    "colab": {},
    "colab_type": "code",
    "id": "b_0JmeV0wSFc"
   },
   "outputs": [],
   "source": [
    "import numpy as np\n",
    "import sympy as sp\n",
    "import matplotlib.pyplot as plt\n",
    "from math import pi\n",
    "import math"
   ]
  },
  {
   "cell_type": "code",
   "execution_count": 2,
   "metadata": {
    "colab": {},
    "colab_type": "code",
    "id": "VPBfJQ7gwSFl"
   },
   "outputs": [],
   "source": [
    "def sigmoid(x,y,b):\n",
    "    y=1.0/(1.0+sp.exp(-(x+y+b)))\n",
    "    return y"
   ]
  },
  {
   "cell_type": "code",
   "execution_count": 3,
   "metadata": {
    "colab": {},
    "colab_type": "code",
    "id": "luXg1ZghwSFt"
   },
   "outputs": [],
   "source": [
    "w1,w2,w3=sp.symbols('w1 w2 w3')\n",
    "b1,b2= sp.symbols('b1 b2')\n",
    "x,y=sp.symbols('x y')"
   ]
  },
  {
   "cell_type": "code",
   "execution_count": 4,
   "metadata": {
    "colab": {},
    "colab_type": "code",
    "id": "Pp65qb30wSF0"
   },
   "outputs": [],
   "source": [
    "def u(x,y):\n",
    "    a1=sigmoid(w1*x,w2*y,b1)\n",
    "    N=a1*w3+b2\n",
    "    dN_dy=N.diff(y)\n",
    "    N1=N.subs(y,1.0)\n",
    "    dN_dy_1=dN_dy.subs(y,1.0)\n",
    "    B=2.0*sp.sin(pi*x)*y\n",
    "    return B+x*(1.0-x)*y*(N-N1-dN_dy_1)"
   ]
  },
  {
   "cell_type": "code",
   "execution_count": 5,
   "metadata": {
    "colab": {},
    "colab_type": "code",
    "id": "wm9GNBQXwSF5"
   },
   "outputs": [],
   "source": [
    "# partial differential equation\n",
    "# d^2u/dx^2 + d^2u/dy^2 = exp(-x)(x-2+y^3+6y) \n",
    "\n",
    "#Boundary condition\n",
    "# u(0,y) = y^3\n",
    "# u(1,y) = (1+y^3)*exp(-1)\n",
    "# u(x,0) = x*exp(-x)\n",
    "# u(x,1) = (x+1)*exp(-x)"
   ]
  },
  {
   "cell_type": "code",
   "execution_count": 6,
   "metadata": {
    "colab": {},
    "colab_type": "code",
    "id": "dVG0BAgiwSF-"
   },
   "outputs": [],
   "source": [
    "U=u(x,y)\n",
    "#2nd order derivative\n",
    "d2u_dx2=U.diff(x,2)\n",
    "d2u_dy2=U.diff(y,2)\n",
    "du_dy=U.diff(y)\n"
   ]
  },
  {
   "cell_type": "code",
   "execution_count": 7,
   "metadata": {
    "colab": {},
    "colab_type": "code",
    "id": "tO__0XbWwSGG"
   },
   "outputs": [],
   "source": [
    "#Loss Function\n",
    "#L = (d2u_dx2+d2u_dy2-sp.exp(-x)*(x-2.0+y**3+6.0*y))**2+(u_x0-y**3)**2+(u_x1-(1.0+y**3)*sp.exp(-1.0))**2+(u_y0-x*sp.exp(-x))**2+(u_y1-(x+1.0)*sp.exp(-x))**2\n",
    "L=(d2u_dx2+d2u_dy2+(U*du_dy)-sp.sin(pi*x)*(2.0-(pi*y)**2+2.0*y**3*sp.sin(pi*x)))**2\n",
    "#Gradient\n",
    "gw1,gw2,gw3=L.diff(w1),L.diff(w2),L.diff(w3)\n",
    "\n",
    "gb1,gb2=L.diff(b1),L.diff(b2)"
   ]
  },
  {
   "cell_type": "code",
   "execution_count": 8,
   "metadata": {
    "colab": {},
    "colab_type": "code",
    "id": "Jm49MzeGwSGP"
   },
   "outputs": [],
   "source": [
    "def Loss(W1,W2,W3,B1,B2,X,Y):\n",
    "    return L.subs([(w1,W1),(w2,W2),(w3,W3),(b1,B1),(b2,B2),(x,X),(y,Y)])"
   ]
  },
  {
   "cell_type": "code",
   "execution_count": 9,
   "metadata": {
    "colab": {},
    "colab_type": "code",
    "id": "9nlEAceNwSGT"
   },
   "outputs": [],
   "source": [
    "def LW1(W1,W2,W3,B1,B2,X,Y):\n",
    "    return gw1.subs([(w1,W1),(w2,W2),(w3,W3),(b1,B1),(b2,B2),(x,X),(y,Y)])\n",
    "\n",
    "def LW2(W1,W2,W3,B1,B2,X,Y):\n",
    "    return gw2.subs([(w1,W1),(w2,W2),(w3,W3),(b1,B1),(b2,B2),(x,X),(y,Y)])\n",
    "\n",
    "def LW3(W1,W2,W3,B1,B2,X,Y):\n",
    "    return gw3.subs([(w1,W1),(w2,W2),(w3,W3),(b1,B1),(b2,B2),(x,X),(y,Y)])\n",
    "\n",
    "def LB1(W1,W2,W3,B1,B2,X,Y):\n",
    "    return gb1.subs([(w1,W1),(w2,W2),(w3,W3),(b1,B1),(b2,B2),(x,X),(y,Y)])\n",
    "\n",
    "def LB2(W1,W2,W3,B1,B2,X,Y):\n",
    "    return gb2.subs([(w1,W1),(w2,W2),(w3,W3),(b1,B1),(b2,B2),(x,X),(y,Y)])\n"
   ]
  },
  {
   "cell_type": "code",
   "execution_count": 10,
   "metadata": {
    "colab": {},
    "colab_type": "code",
    "id": "uQQxHxX1wSGY"
   },
   "outputs": [],
   "source": [
    "#Initialization\n",
    "#Weight\n",
    "import random\n",
    "random.seed(1)\n",
    "W1=random.random()\n",
    "W2=random.random()\n",
    "W3=random.random()\n",
    "\n",
    "#Bias\n",
    "B1=random.random()\n",
    "B2=random.random()\n"
   ]
  },
  {
   "cell_type": "code",
   "execution_count": 11,
   "metadata": {
    "colab": {},
    "colab_type": "code",
    "id": "ZXGFl1JewSGd"
   },
   "outputs": [],
   "source": [
    "#Training Set\n",
    "X_value=np.linspace(0,1,10)\n",
    "Y_value=np.linspace(0,1,10)\n",
    "\n",
    "n1=X_value.shape[0]\n",
    "n2=Y_value.shape[0]\n",
    "n=n1*n2"
   ]
  },
  {
   "cell_type": "code",
   "execution_count": null,
   "metadata": {
    "colab": {},
    "colab_type": "code",
    "id": "F1jqQiP1wSGl"
   },
   "outputs": [],
   "source": [
    "# Number of Epoch\n",
    "epoch=30\n",
    "#learning rate\n",
    "l_rate = 0.05\n",
    "Lss=[]\n",
    "for i in range(epoch):\n",
    "    S1,S2,S3=0,0,0\n",
    "    Bi1,Bi2=0,0\n",
    "    Ls=0.0\n",
    "    for X in X_value:\n",
    "        for Y in Y_value:\n",
    "            Ls+=Loss(W1,W2,W3,B1,B2,X,Y)\n",
    "            \n",
    "            S1+= LW1(W1,W2,W3,B1,B2,X,Y)\n",
    "            S2+= LW2(W1,W2,W3,B1,B2,X,Y)\n",
    "            S3+= LW3(W1,W2,W3,B1,B2,X,Y)\n",
    "            \n",
    "            Bi1+= LB1(W1,W2,W3,B1,B2,X,Y)\n",
    "            Bi2+= LB2(W1,W2,W3,B1,B2,X,Y)\n",
    "        \n",
    "    \n",
    "    W1-=l_rate*(S1/n)\n",
    "    W2-=l_rate*(S2/n)\n",
    "    W3-=l_rate*(S3/n)\n",
    "\n",
    "    B1-=l_rate*(Bi1/n)\n",
    "    B2-=l_rate*(Bi2/n)\n",
    "    \n",
    "    a=Ls/n\n",
    "    Lss.append(a)\n",
    "    if i>=1:\n",
    "        if abs(Lss[-2]-Lss[-1]) <0.001:\n",
    "            break"
   ]
  },
  {
   "cell_type": "code",
   "execution_count": null,
   "metadata": {
    "colab": {
     "base_uri": "https://localhost:8080/",
     "height": 54
    },
    "colab_type": "code",
    "id": "sjMz_wwhwSGy",
    "outputId": "ffdf5fd9-1728-4350-a8f6-f0541b9885a6"
   },
   "outputs": [],
   "source": [
    "print('Weights:',(W1,W2,W3))\n",
    "print('Bias:',(B1,B2))"
   ]
  },
  {
   "cell_type": "code",
   "execution_count": null,
   "metadata": {
    "colab": {
     "base_uri": "https://localhost:8080/",
     "height": 35
    },
    "colab_type": "code",
    "id": "TysvxYQWwSGt",
    "outputId": "64a2f8cf-92fd-441f-8923-08a245a16098"
   },
   "outputs": [],
   "source": [
    "\n",
    "def NN_U(xi,yi):\n",
    "    return U.subs([(w1,W1),(w2,W2),(w3,W3),(b1,B1),(b2,B2),(x,xi),(y,yi)])\n",
    "\n",
    "def act_U(xi,yi):\n",
    "    return yi**2*np.sin(pi*xi)\n",
    "\n",
    "#Test Set\n",
    "X_test=np.linspace(0,1,17)\n",
    "Y_test=np.linspace(0,1,17)\n",
    "\n",
    "N1=X_test.shape[0]\n",
    "N2=Y_test.shape[0]\n",
    "N=N1*N2\n",
    "\n",
    "er=0\n",
    "U_NN=[]\n",
    "U_act=[]\n",
    "\n",
    "for xi in X_test:\n",
    "    for yi in Y_test:\n",
    "        U_NN.append(NN_U(xi,yi))\n",
    "        U_act.append(act_U(xi,yi))\n",
    "        er+=(NN_U(xi,yi)-act_U(xi,yi))**2\n",
    "        \n",
    "print('Mean square error:','%0.5f'%(er/N))"
   ]
  },
  {
   "cell_type": "code",
   "execution_count": null,
   "metadata": {
    "colab": {
     "base_uri": "https://localhost:8080/",
     "height": 303
    },
    "colab_type": "code",
    "id": "ABR8YYhyKJW0",
    "outputId": "dc63b110-96e9-48d9-8031-513f0701535d"
   },
   "outputs": [],
   "source": [
    "#Actual Solution\n",
    "\n",
    "from mpl_toolkits import mplot3d\n",
    "from matplotlib import cm\n",
    "\n",
    "a = np.linspace(0, 1, 17)\n",
    "b = np.linspace(0, 1, 17)\n",
    "\n",
    "X, Y = np.meshgrid(a, b)\n",
    "Z = act_U(X, Y)\n",
    "fig = plt.figure(figsize = (6,5))\n",
    "ax = fig.gca(projection='3d')\n",
    "ax.plot_surface(X,Y , Z,rstride = 1 ,cstride = 1,alpha = 0.4)\n",
    "cset = ax.contour(X, Y, Z, zdir='z', offset=-1200,cmap=cm.coolwarm)\n",
    "cset = ax.contour(X, Y, Z, zdir='x', offset=-10,cmap=cm.coolwarm)\n",
    "cset = ax.contour(X, Y, Z, zdir='y', offset=10,cmap=cm.coolwarm)\n",
    "\n",
    "ax.set_xlabel('X')\n",
    "ax.set_ylabel('Y')\n",
    "ax.set_zlabel('f');"
   ]
  },
  {
   "cell_type": "code",
   "execution_count": null,
   "metadata": {
    "colab": {
     "base_uri": "https://localhost:8080/",
     "height": 55
    },
    "colab_type": "code",
    "id": "JXafL7C8Dtrx",
    "outputId": "676eb29f-b8e2-4573-bb4f-567c4ba57fb0"
   },
   "outputs": [],
   "source": [
    "a=sp.symbols('a')\n",
    "b=sp.symbols('b')\n",
    "print(U.subs([(w1,W1),(w2,W2),(w3,W3),(b1,B1),(b2,B2),(x,a),(y,b)]))"
   ]
  },
  {
   "cell_type": "code",
   "execution_count": null,
   "metadata": {
    "colab": {
     "base_uri": "https://localhost:8080/",
     "height": 303
    },
    "colab_type": "code",
    "id": "Y8RvBQY8DlmL",
    "outputId": "99434d1b-50fd-4565-e076-7b420285a51c"
   },
   "outputs": [],
   "source": [
    "#Neural Netwok\n",
    "\n",
    "def f(a, b):\n",
    "    return a*b*(-a + 1.0)*(4.63066783342696/(8.44592594043877*np.exp(2.05347124629913*a - 3.28229338165642*b) + 1.0) - 4.63066783342696/(0.317077456151605*np.exp(2.05347124629913*a) + 1.0) - 4.81932696353483*np.exp(2.05347124629913*a)/(0.317077456151605*np.exp(2.05347124629913*a) + 1.0)**2) + 2.0*b*np.sin(3.14159265358979*a)\n",
    "\n",
    "\n",
    "a = np.linspace(0, 1.0, 17)\n",
    "b = np.linspace(0, 1.0, 17)\n",
    "\n",
    "X, Y = np.meshgrid(a, b)\n",
    "Z = f(X, Y)\n",
    "fig = plt.figure(figsize = (6,5))\n",
    "ax = fig.gca(projection='3d')\n",
    "ax.plot_surface(X,Y , Z,rstride = 1 ,cstride = 1,alpha = 0.4)\n",
    "cset = ax.contour(X, Y, Z, zdir='z', offset=-1200,cmap=cm.coolwarm)\n",
    "cset = ax.contour(X, Y, Z, zdir='x', offset=-10,cmap=cm.coolwarm)\n",
    "cset = ax.contour(X, Y, Z, zdir='y', offset=10,cmap=cm.coolwarm)\n",
    "\n",
    "ax.set_xlabel('X')\n",
    "ax.set_ylabel('Y')\n",
    "ax.set_zlabel('f');"
   ]
  },
  {
   "cell_type": "code",
   "execution_count": null,
   "metadata": {
    "colab": {
     "base_uri": "https://localhost:8080/",
     "height": 303
    },
    "colab_type": "code",
    "id": "HbgkBW9hFLYI",
    "outputId": "27141b63-b824-415c-9bb3-fd8abe403a03"
   },
   "outputs": [],
   "source": [
    "a = np.linspace(0, 1, 17)\n",
    "b = np.linspace(0, 1, 17)\n",
    "\n",
    "X, Y = np.meshgrid(a, b)\n",
    "Z = f(X, Y)\n",
    "W = act_U(X, Y)\n",
    "\n",
    "fig = plt.figure(figsize = (6,5))\n",
    "ax = fig.gca(projection='3d')\n",
    "ax.plot_surface(X,Y , Z,rstride = 1 ,cstride = 1,alpha = 0.4)\n",
    "cset = ax.contour(X, Y, Z, zdir='z', offset=-1200,cmap=cm.coolwarm)\n",
    "cset = ax.contour(X, Y, Z, zdir='x', offset=-10,cmap=cm.coolwarm)\n",
    "cset = ax.contour(X, Y, Z, zdir='y', offset=10,cmap=cm.coolwarm)\n",
    "ax.plot_surface(X,Y , W,rstride = 1 ,cstride = 1,alpha = 0.4)\n",
    "cset = ax.contour(X, Y, W, zdir='W', offset=-1200,cmap=cm.coolwarm)\n",
    "cset = ax.contour(X, Y, W, zdir='x', offset=-10,cmap=cm.coolwarm)\n",
    "cset = ax.contour(X, Y, W, zdir='y', offset=10,cmap=cm.coolwarm)\n",
    "\n",
    "ax.set_xlabel('X')\n",
    "ax.set_ylabel('Y')\n",
    "ax.set_zlabel('f');\n"
   ]
  },
  {
   "cell_type": "code",
   "execution_count": null,
   "metadata": {},
   "outputs": [],
   "source": []
  }
 ],
 "metadata": {
  "accelerator": "GPU",
  "colab": {
   "collapsed_sections": [],
   "name": "PDE_Non_linear.ipynb",
   "provenance": []
  },
  "kernelspec": {
   "display_name": "Python 3",
   "language": "python",
   "name": "python3"
  },
  "language_info": {
   "codemirror_mode": {
    "name": "ipython",
    "version": 3
   },
   "file_extension": ".py",
   "mimetype": "text/x-python",
   "name": "python",
   "nbconvert_exporter": "python",
   "pygments_lexer": "ipython3",
   "version": "3.8.5"
  }
 },
 "nbformat": 4,
 "nbformat_minor": 1
}
