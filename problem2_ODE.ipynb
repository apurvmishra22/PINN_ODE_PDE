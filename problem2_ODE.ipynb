{
 "cells": [
  {
   "cell_type": "code",
   "execution_count": 1,
   "metadata": {},
   "outputs": [],
   "source": [
    "import numpy as np\n",
    "import sympy as sp\n",
    "import matplotlib.pyplot as plt\n",
    "import math\n",
    "import random"
   ]
  },
  {
   "cell_type": "code",
   "execution_count": 2,
   "metadata": {},
   "outputs": [],
   "source": [
    "def sigmoid(x,b):\n",
    "    y=1.0/(1.0+sp.exp(-(x+b)))\n",
    "    return y"
   ]
  },
  {
   "cell_type": "code",
   "execution_count": 3,
   "metadata": {},
   "outputs": [],
   "source": [
    "w1,w2,w3=sp.symbols('w1 w2 w3')\n",
    "b1,b2= sp.symbols('b1 b2')\n",
    "x=sp.symbols('x')\n"
   ]
  },
  {
   "cell_type": "code",
   "execution_count": 4,
   "metadata": {},
   "outputs": [],
   "source": [
    "def u(x):\n",
    "    a1=sigmoid(w1*x,b1)\n",
    "    N=a1*w2+b2\n",
    "    return x*N\n",
    "\n",
    "\n",
    "U=u(x)\n",
    "du_dx=U.diff(x,1)\n"
   ]
  },
  {
   "cell_type": "code",
   "execution_count": 5,
   "metadata": {},
   "outputs": [],
   "source": [
    "L=(du_dx+(U/5)-(sp.exp(-x/5)*sp.cos(x)))**2 \n",
    "#Gradient\n",
    "gw1,gw2=L.diff(w1),L.diff(w2)\n",
    "\n",
    "\n",
    "gb1,gb2=L.diff(b1),L.diff(b2)\n"
   ]
  },
  {
   "cell_type": "code",
   "execution_count": 6,
   "metadata": {},
   "outputs": [],
   "source": [
    "def Loss(W1,W2,B1,B2,X):\n",
    "    return L.subs([(w1,W1),(w2,W2),(b1,B1),(b2,B2),(x,X)])\n",
    "\n",
    "\n",
    "def LW1(W1,W2,B1,B2,X):\n",
    "    return gw1.subs([(w1,W1),(w2,W2),(b1,B1),(b2,B2),(x,X)])\n",
    "\n",
    "def LW2(W1,W2,B1,B2,X):\n",
    "    return gw2.subs([(w1,W1),(w2,W2),(b1,B1),(b2,B2),(x,X)])\n",
    "\n",
    "\n",
    "def LB1(W1,W2,B1,B2,X):\n",
    "    return gb1.subs([(w1,W1),(w2,W2),(b1,B1),(b2,B2),(x,X)])\n",
    "\n",
    "def LB2(W1,W2,B1,B2,X):\n",
    "    return gb2.subs([(w1,W1),(w2,W2),(b1,B1),(b2,B2),(x,X)])"
   ]
  },
  {
   "cell_type": "code",
   "execution_count": 7,
   "metadata": {},
   "outputs": [],
   "source": [
    "random.seed(1)\n",
    "W1=random.random()\n",
    "W2=random.random()\n",
    "\n",
    "#Bias\n",
    "B1=random.random()\n",
    "B2=random.random()\n"
   ]
  },
  {
   "cell_type": "code",
   "execution_count": 8,
   "metadata": {},
   "outputs": [],
   "source": [
    "X_value=np.linspace(0,1,20)\n",
    "n=X_value.shape[0]\n"
   ]
  },
  {
   "cell_type": "code",
   "execution_count": 9,
   "metadata": {},
   "outputs": [],
   "source": [
    "# Number of Epoch\n",
    "epoch=200\n",
    "#learning rate\n",
    "l_rate = 0.2\n",
    "Lss=[]\n",
    "for i in range(epoch):\n",
    "    S1,S2=0,0\n",
    "    Bi1,Bi2=0,0\n",
    "    Ls=0.0\n",
    "    for X in X_value:\n",
    "        Ls+=Loss(W1,W2,B1,B2,X)\n",
    "        S1+= LW1(W1,W2,B1,B2,X)\n",
    "        S2+= LW2(W1,W2,B1,B2,X)\n",
    "        \n",
    "\n",
    "        Bi1+= LB1(W1,W2,B1,B2,X)\n",
    "        Bi2+= LB2(W1,W2,B1,B2,X)\n",
    "        \n",
    "    \n",
    "    W1-=l_rate*(S1/n)\n",
    "    W2-=l_rate*(S2/n)\n",
    "    \n",
    "\n",
    "    B1-=l_rate*(Bi1/n)\n",
    "    B2-=l_rate*(Bi2/n)\n",
    "    a=Ls/n\n",
    "    Lss.append(a)\n",
    "    if i>=1:\n",
    "        if abs(Lss[-2]-Lss[-1]) <0.00001:\n",
    "            break\n",
    "\n"
   ]
  },
  {
   "cell_type": "code",
   "execution_count": 10,
   "metadata": {},
   "outputs": [
    {
     "name": "stdout",
     "output_type": "stream",
     "text": [
      "Mean square error: 0.0000327\n",
      "Weights: (-1.04285571443650, 1.28345356424041)\n",
      "Bias: (0.709525474405509, 0.151656425869594)\n"
     ]
    }
   ],
   "source": [
    "def NN_U(xi):\n",
    "    return U.subs([(w1,W1),(w2,W2),(b1,B1),(b2,B2),(x,xi)])\n",
    "\n",
    "def act_U(xi):\n",
    "   \n",
    "    return math.exp(-xi/5)*(math.sin(xi))\n",
    "\n",
    "\n",
    "X_test=np.linspace(0,1,13)\n",
    "\n",
    "N=X_test.shape[0]\n",
    "\n",
    "er=0\n",
    "U_NN=[]\n",
    "U_act=[]\n",
    "for xi in X_test:\n",
    "    U_NN.append(NN_U(xi))\n",
    "    U_act.append(act_U(xi))\n",
    "    er+=(NN_U(xi)-act_U(xi))**2\n",
    "print('Mean square error:','%0.7f'%(er/N))\n",
    "\n",
    "\n",
    "\n",
    "print('Weights:',(W1,W2))\n",
    "print('Bias:',(B1,B2))\n",
    "\n"
   ]
  },
  {
   "cell_type": "code",
   "execution_count": 11,
   "metadata": {},
   "outputs": [
    {
     "data": {
      "text/plain": [
       "<matplotlib.legend.Legend at 0x1cce6fb10d0>"
      ]
     },
     "execution_count": 11,
     "metadata": {},
     "output_type": "execute_result"
    },
    {
     "data": {
      "image/png": "[encoded data removed]",
      "text/plain": [
       "<Figure size 432x288 with 1 Axes>"
      ]
     },
     "metadata": {
      "needs_background": "light"
     },
     "output_type": "display_data"
    }
   ],
   "source": [
    "plt.plot(X_test,U_NN,'ro',label='Neural network')\n",
    "plt.plot(X_test,U_act,'kv',label='Actual')\n",
    "plt.xlabel('x')\n",
    "plt.ylabel('u')\n",
    "plt.grid()\n",
    "plt.legend()"
   ]
  },
  {
   "cell_type": "code",
   "execution_count": 12,
   "metadata": {},
   "outputs": [
    {
     "name": "stdout",
     "output_type": "stream",
     "text": [
      "At t=10 value of y is0.6892566148025364\n"
     ]
    },
    {
     "data": {
      "image/png": "[encoded data removed]",
      "text/plain": [
       "<Figure size 432x288 with 1 Axes>"
      ]
     },
     "metadata": {
      "needs_background": "light"
     },
     "output_type": "display_data"
    }
   ],
   "source": [
    "########################EXPLICIT###########################################\n",
    "t=0\n",
    "yin=0\n",
    "dt=0.001\n",
    "i=0\n",
    "znew=0\n",
    "T=[]\n",
    "Y=[]\n",
    "Mn1=[]\n",
    "X_test=np.linspace(0,1,13)\n",
    "for n in X_test:\n",
    "    if n!=0:\n",
    "        Mn1.append(znew)\n",
    "    while(t<n):\n",
    "        if i==0:\n",
    "            zn=0\n",
    "            t=0\n",
    "        else:\n",
    "            zn=znew\n",
    "        f=(-zn/5)+(math.exp(-t/5)*(math.cos(t)))    \n",
    "        znew=zn+(dt*f)\n",
    "        mn1=znew\n",
    "        t=t+dt\n",
    "        i=i+1\n",
    "Mn1.append(znew)\n",
    "print(\"At t=10 value of y is\"+str(znew))\n",
    "plt.plot(X_test,Mn1,'b',label=str(dt))\n",
    "plt.legend()\n",
    "plt.title('Explicit')\n",
    "plt.xlabel('X axis')\n",
    "plt.ylabel('Y axis')\n",
    "plt.grid()\n",
    "plt.show()\n",
    "    "
   ]
  },
  {
   "cell_type": "code",
   "execution_count": 13,
   "metadata": {},
   "outputs": [
    {
     "data": {
      "image/png": "[encoded data removed]",
      "text/plain": [
       "<Figure size 432x288 with 1 Axes>"
      ]
     },
     "metadata": {
      "needs_background": "light"
     },
     "output_type": "display_data"
    }
   ],
   "source": [
    "############################FULL_IMPLICIT#######################################\n",
    "i=0\n",
    "yin=0\n",
    "K1=[yin]\n",
    "T2=[0]\n",
    "t=0\n",
    "yp=yin\n",
    "yn1=yin\n",
    "dt=0.001\n",
    "Mn2=[]\n",
    "X_test=np.linspace(0,1,13)\n",
    "for n in X_test:\n",
    "    if n!=0:\n",
    "        Mn2.append(yp)\n",
    "    while(t<n):\n",
    "        t=t+dt\n",
    "        ynl=yp\n",
    "        for i in range(20):\n",
    "            ynew=yn1-(((yn1+dt*((yn1/5)-(math.exp(-t/5)*(math.cos(t)))))-yp)/(1+dt*((1/5)-(math.exp(-t/5)*(math.cos(t))))))\n",
    "            yn1=ynew\n",
    "\n",
    "        yp=ynew\n",
    "        K1.append(ynew)    \n",
    "        T2.append(t)\n",
    "Mn2.append(yp)\n",
    "plt.plot(X_test,Mn2,'r',label=str(dt))\n",
    "plt.legend()\n",
    "plt.title('Implicit')\n",
    "plt.xlabel('X axis')\n",
    "plt.ylabel('Y axis')\n",
    "plt.grid()\n",
    "plt.show()"
   ]
  },
  {
   "cell_type": "code",
   "execution_count": 14,
   "metadata": {},
   "outputs": [
    {
     "data": {
      "image/png": "[encoded data removed]",
      "text/plain": [
       "<Figure size 432x288 with 1 Axes>"
      ]
     },
     "metadata": {
      "needs_background": "light"
     },
     "output_type": "display_data"
    }
   ],
   "source": [
    "plt.plot(X_test,Mn1,'b',label=\"Explicit\")\n",
    "plt.plot(X_test,Mn2,'r',label=\"Implicit\")\n",
    "plt.plot(X_test,U_NN,'rx',label=\"NN\")\n",
    "plt.plot(X_test,U_act,'ko',label=\"Exact\")\n",
    "plt.legend()\n",
    "plt.title('Comparison of all the methods')\n",
    "plt.xlabel('X axis')\n",
    "plt.ylabel('Y axis(value of u)')\n",
    "plt.grid()\n",
    "plt.show()"
   ]
  },
  {
   "cell_type": "code",
   "execution_count": null,
   "metadata": {},
   "outputs": [],
   "source": []
  }
 ],
 "metadata": {
  "kernelspec": {
   "display_name": "Python 3",
   "language": "python",
   "name": "python3"
  },
  "language_info": {
   "codemirror_mode": {
    "name": "ipython",
    "version": 3
   },
   "file_extension": ".py",
   "mimetype": "text/x-python",
   "name": "python",
   "nbconvert_exporter": "python",
   "pygments_lexer": "ipython3",
   "version": "3.8.5"
  }
 },
 "nbformat": 4,
 "nbformat_minor": 2
}
