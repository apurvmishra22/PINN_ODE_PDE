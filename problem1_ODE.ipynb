{
 "cells": [
  {
   "cell_type": "code",
   "execution_count": 1,
   "metadata": {},
   "outputs": [],
   "source": [
    "import numpy as np\n",
    "import sympy as sp\n",
    "import matplotlib.pyplot as plt\n",
    "import math\n",
    "import random"
   ]
  },
  {
   "cell_type": "code",
   "execution_count": 2,
   "metadata": {},
   "outputs": [],
   "source": [
    "def sigmoid(x,b):\n",
    "    y=1.0/(1.0+sp.exp(-(x+b)))\n",
    "    return y"
   ]
  },
  {
   "cell_type": "code",
   "execution_count": 3,
   "metadata": {},
   "outputs": [],
   "source": [
    "w1,w2=sp.symbols('w1 w2')\n",
    "b1,b2= sp.symbols('b1 b2')\n",
    "x=sp.symbols('x')"
   ]
  },
  {
   "cell_type": "code",
   "execution_count": 4,
   "metadata": {},
   "outputs": [],
   "source": [
    "def u(x):\n",
    "    a1=sigmoid(w1*x,b1)\n",
    "    N=(a1*w2+b2)\n",
    "    return x*N"
   ]
  },
  {
   "cell_type": "code",
   "execution_count": 5,
   "metadata": {},
   "outputs": [],
   "source": [
    "U=u(x)\n",
    "du_dx=U.diff(x)\n",
    "u0=U.subs(x,0)"
   ]
  },
  {
   "cell_type": "code",
   "execution_count": 6,
   "metadata": {},
   "outputs": [],
   "source": [
    "L=(du_dx-5.0*x**2-2.0*x)**2\n",
    "\n",
    "#Gradient\n",
    "gw1,gw2=L.diff(w1),L.diff(w2)\n",
    "\n",
    "\n",
    "gb1,gb2=L.diff(b1),L.diff(b2)"
   ]
  },
  {
   "cell_type": "code",
   "execution_count": 7,
   "metadata": {},
   "outputs": [],
   "source": [
    "def Loss(W1,W2,B1,B2,X):\n",
    "    return L.subs([(w1,W1),(w2,W2),(b1,B1),(b2,B2),(x,X)])"
   ]
  },
  {
   "cell_type": "code",
   "execution_count": 8,
   "metadata": {},
   "outputs": [],
   "source": [
    "def LW1(W1,W2,B1,B2,X):\n",
    "    return gw1.subs([(w1,W1),(w2,W2),(b1,B1),(b2,B2),(x,X)])\n",
    "\n",
    "def LW2(W1,W2,B1,B2,X):\n",
    "    return gw2.subs([(w1,W1),(w2,W2),(b1,B1),(b2,B2),(x,X)])\n",
    "\n",
    "def LW3(W1,W2,B1,B2,X):\n",
    "    return gw3.subs([(w1,W1),(w2,W2),(b1,B1),(b2,B2),(x,X)])\n",
    "\n",
    "def LB1(W1,W2,B1,B2,X):\n",
    "    return gb1.subs([(w1,W1),(w2,W2),(b1,B1),(b2,B2),(x,X)])\n",
    "\n",
    "def LB2(W1,W2,B1,B2,X):\n",
    "    return gb2.subs([(w1,W1),(w2,W2),(b1,B1),(b2,B2),(x,X)])\n"
   ]
  },
  {
   "cell_type": "code",
   "execution_count": 9,
   "metadata": {},
   "outputs": [],
   "source": [
    "\n",
    "random.seed(1)\n",
    "W1=random.random()\n",
    "W2=random.random()\n",
    "\n",
    "\n",
    "#Bias\n",
    "B1=random.random()\n",
    "B2=random.random()"
   ]
  },
  {
   "cell_type": "code",
   "execution_count": 10,
   "metadata": {},
   "outputs": [],
   "source": [
    "X_value=np.linspace(0,1,20)\n",
    "n=X_value.shape[0]"
   ]
  },
  {
   "cell_type": "code",
   "execution_count": 11,
   "metadata": {},
   "outputs": [],
   "source": [
    "# Number of Epoch\n",
    "epoch=150\n",
    "#learning rate\n",
    "l_rate = 0.2\n",
    "Lss=[]\n",
    "for i in range(epoch):\n",
    "    S1,S2=0,0\n",
    "    Bi1,Bi2=0,0\n",
    "    Ls=0.0\n",
    "    for X in X_value:\n",
    "        Ls+=Loss(W1,W2,B1,B2,X)\n",
    "        S1+= LW1(W1,W2,B1,B2,X)\n",
    "        S2+= LW2(W1,W2,B1,B2,X)\n",
    "        \n",
    "\n",
    "        Bi1+= LB1(W1,W2,B1,B2,X)\n",
    "        Bi2+= LB2(W1,W2,B1,B2,X)\n",
    "        \n",
    "    \n",
    "    W1-=l_rate*(S1/n)\n",
    "    W2-=l_rate*(S2/n)\n",
    "    \n",
    "\n",
    "    B1-=l_rate*(Bi1/n)\n",
    "    B2-=l_rate*(Bi2/n)\n",
    "    a=Ls/n\n",
    "    #print(a)\n",
    "    Lss.append(a)\n",
    "    if i>=1:\n",
    "        if abs(Lss[-2]-Lss[-1]) <0.001:\n",
    "            break"
   ]
  },
  {
   "cell_type": "code",
   "execution_count": 12,
   "metadata": {},
   "outputs": [
    {
     "name": "stdout",
     "output_type": "stream",
     "text": [
      "Weights: (3.30615780380631, 4.75394647637002)\n",
      "Bias: (-2.97884561000171, -0.0880776078141419)\n"
     ]
    }
   ],
   "source": [
    "print('Weights:',(W1,W2))\n",
    "print('Bias:',(B1,B2))"
   ]
  },
  {
   "cell_type": "code",
   "execution_count": 13,
   "metadata": {},
   "outputs": [
    {
     "name": "stdout",
     "output_type": "stream",
     "text": [
      "Mean square error: 0.00020\n"
     ]
    }
   ],
   "source": [
    "def NN_U(xi):\n",
    "    return U.subs([(w1,W1),(w2,W2),(b1,B1),(b2,B2),(x,xi)])\n",
    "\n",
    "def act_U(xi):\n",
    "    return (5/3)*xi**3+xi**2\n",
    "\n",
    "X_test=np.linspace(0,1,14)\n",
    "\n",
    "N=X_test.shape[0]\n",
    "\n",
    "er=0\n",
    "U_NN=[]\n",
    "U_act=[]\n",
    "for xi in X_test:\n",
    "    U_NN.append(NN_U(xi))\n",
    "    U_act.append(act_U(xi))\n",
    "    er+=(NN_U(xi)-act_U(xi))**2\n",
    "print('Mean square error:','%0.5f'%(er/N))"
   ]
  },
  {
   "cell_type": "code",
   "execution_count": 14,
   "metadata": {},
   "outputs": [
    {
     "data": {
      "text/plain": [
       "<matplotlib.legend.Legend at 0x214cd74c430>"
      ]
     },
     "execution_count": 14,
     "metadata": {},
     "output_type": "execute_result"
    },
    {
     "data": {
      "image/png": "[encoded data removed]",
      "text/plain": [
       "<Figure size 432x288 with 1 Axes>"
      ]
     },
     "metadata": {
      "needs_background": "light"
     },
     "output_type": "display_data"
    }
   ],
   "source": [
    "plt.plot(X_test,U_NN,'ro',label='Neural network')\n",
    "plt.plot(X_test,U_act,'kv',label='Actual')\n",
    "plt.xlabel('x')\n",
    "plt.ylabel('u')\n",
    "plt.grid()\n",
    "plt.legend()"
   ]
  },
  {
   "cell_type": "code",
   "execution_count": null,
   "metadata": {},
   "outputs": [],
   "source": []
  }
 ],
 "metadata": {
  "kernelspec": {
   "display_name": "Python 3",
   "language": "python",
   "name": "python3"
  },
  "language_info": {
   "codemirror_mode": {
    "name": "ipython",
    "version": 3
   },
   "file_extension": ".py",
   "mimetype": "text/x-python",
   "name": "python",
   "nbconvert_exporter": "python",
   "pygments_lexer": "ipython3",
   "version": "3.8.5"
  }
 },
 "nbformat": 4,
 "nbformat_minor": 2
}
